{
 "cells": [
  {
   "cell_type": "code",
   "execution_count": null,
   "id": "bae46ad7",
   "metadata": {},
   "outputs": [],
   "source": [
    "# imports\n",
    "import kagglehub\n",
    "import numpy as np\n",
    "import pandas as pd\n",
    "\n",
    "# scikit-learn stuff\n",
    "from sklearn.model_selection import train_test_split\n",
    "from imblearn.over_sampling import SMOTE\n",
    "\n",
    "\n",
    "# download the dataset\n",
    "path = kagglehub.dataset_download(\"mlg-ulb/creditcardfraud\")\n",
    "\n",
    "print(\"path to dataset files:\", path)"
   ]
  },
  {
   "cell_type": "code",
   "execution_count": null,
   "id": "a1eb1490",
   "metadata": {},
   "outputs": [],
   "source": [
    "import pandas as pd\n",
    "\n",
    "# Trying to get a better sense of the data\n",
    "csv_path = path + '/creditcard.csv'\n",
    "df = pd.read_csv(csv_path)\n",
    "df.head()"
   ]
  },
  {
   "cell_type": "code",
   "execution_count": null,
   "id": "4a3979e1",
   "metadata": {},
   "outputs": [],
   "source": [
    "df.describe()"
   ]
  },
  {
   "cell_type": "code",
   "execution_count": null,
   "id": "6dd64657",
   "metadata": {},
   "outputs": [],
   "source": [
    "# split the dataset into training and test, use SMOTE since the dataset is imbalanced\n",
    "\n",
    "X = df.iloc[:, :30] # all rows, first 30 columns\n",
    "y = df.iloc[:, 30]  # all rows, last column\n",
    "\n",
    "X_train, X_test, y_train, y_test = train_test_split(\n",
    "    X, y, test_size=0.3, random_state=0\n",
    ")\n",
    "\n",
    "sm = SMOTE(random_state=2)\n",
    "X_train_res, y_train_res = sm.fit_resample(X_train, y_train)"
   ]
  },
  {
   "cell_type": "code",
   "execution_count": null,
   "id": "097daa7f",
   "metadata": {},
   "outputs": [],
   "source": [
    "# define the model and fit it on the training data\n",
    "from sklearn.linear_model import RidgeClassifier\n",
    "\n",
    "rc = RidgeClassifier(alpha=1, solver='sag') # decided on saga for the large number of features and samples\n",
    "clf = rc.fit(X_train_res, y_train_res)\n",
    "clf.score(X_test, y_test)\n"
   ]
  },
  {
   "cell_type": "markdown",
   "id": "2405024a",
   "metadata": {},
   "source": [
    "So, this score is good, but too good to be true without much work. I used SMOTE to balance the dataset, which was a good choice I believe, but the choice of model could be slightly better. Models like random forest, XGBoost, or a NN may capture non-linear patterns better. Additionally, accuracy is not the only measure of performance, especially on such an imbalanced dataset. \n",
    "\n",
    "The next step is to use better evaluation metrics. Going to fit two other models, and display more informative metrics like precision, recall, and F1-score for the minority class."
   ]
  },
  {
   "cell_type": "code",
   "execution_count": null,
   "id": "a3ba1de9",
   "metadata": {},
   "outputs": [],
   "source": [
    "from sklearn.metrics import classification_report\n",
    "\n",
    "y_pred = clf.predict(X_test)\n",
    "print(classification_report(y_test, y_pred))"
   ]
  },
  {
   "cell_type": "code",
   "execution_count": null,
   "id": "34dafe84",
   "metadata": {},
   "outputs": [],
   "source": [
    "from sklearn.metrics import confusion_matrix\n",
    "\n",
    "confusion_matrix(y_test, y_pred)"
   ]
  },
  {
   "cell_type": "markdown",
   "id": "965aa2de",
   "metadata": {},
   "source": [
    "Looking at the results, the model actually fails about 25% of the fraudulent cases. With only a 35% precision, which could be costly in something fragile like fraud detection. \n",
    "\n",
    "Trying a random forest classifier:"
   ]
  },
  {
   "cell_type": "code",
   "execution_count": null,
   "id": "6cde8353",
   "metadata": {},
   "outputs": [],
   "source": [
    "from sklearn.ensemble import RandomForestClassifier\n",
    "\n",
    "rf_clf = RandomForestClassifier()\n",
    "rf_clf.fit(X_train_res, y_train_res)\n",
    "rf_clf.score(X_test, y_test)"
   ]
  },
  {
   "cell_type": "code",
   "execution_count": null,
   "id": "23c98904",
   "metadata": {},
   "outputs": [],
   "source": [
    "y_rf_pred = rf_clf.predict(X_test)\n",
    "print(classification_report(y_test, y_rf_pred))"
   ]
  },
  {
   "cell_type": "markdown",
   "id": "647c4250",
   "metadata": {},
   "source": [
    "Pretty good results,  can see that 90% of cases that were classified as fraud were indeed fraudulent cases, but a slightly problematic recall of 82%. Now I want to try a neural net trained on the SMOTE dataset. "
   ]
  },
  {
   "cell_type": "code",
   "execution_count": null,
   "id": "7d70f166",
   "metadata": {},
   "outputs": [],
   "source": [
    "# had to use tf-nightly since this venv is on python 3.13\n",
    "import keras\n",
    "import tensorflow as tf\n",
    "from keras import backend as K\n",
    "from keras.models import Sequential\n",
    "from keras.layers import Activation\n",
    "from keras.layers import Dense, Dropout, BatchNormalization\n",
    "from keras.optimizers import Adam\n",
    "from keras.metrics import categorical_crossentropy\n",
    "from sklearn.metrics import classification_report"
   ]
  },
  {
   "cell_type": "code",
   "execution_count": null,
   "id": "df1e9568",
   "metadata": {},
   "outputs": [],
   "source": [
    "n_inputs = X_train_res.shape[1]\n",
    "\n",
    "smote_model = Sequential([\n",
    "    Dense(128, input_shape=(n_inputs,), activation='relu'),\n",
    "    BatchNormalization(),\n",
    "    Dropout(0.3),\n",
    "    Dense(64, activation='relu'),\n",
    "    BatchNormalization(),\n",
    "    Dropout(0.3),\n",
    "    Dense(32, activation='relu'),\n",
    "    Dense(1, activation='sigmoid')\n",
    "])\n",
    "\n",
    "smote_model.summary()\n",
    "\n",
    "smote_model.compile(optimizer=Adam(learning_rate=0.0005),\n",
    "                    loss='binary_crossentropy',\n",
    "                    metrics=['accuracy'])"
   ]
  },
  {
   "cell_type": "code",
   "execution_count": null,
   "id": "1b421cd4",
   "metadata": {},
   "outputs": [],
   "source": [
    "smote_model.fit(X_train_res, y_train_res,\n",
    "                epochs=20,\n",
    "                batch_size=64,\n",
    "                validation_split=0.2,\n",
    "                shuffle=True,\n",
    "                verbose=1)"
   ]
  },
  {
   "cell_type": "code",
   "execution_count": null,
   "id": "b9f5a01c",
   "metadata": {},
   "outputs": [],
   "source": [
    "y_pred_prob = smote_model.predict(X_test, verbose=1)\n",
    "y_pred = (y_pred_prob > 0.5).astype(int)"
   ]
  },
  {
   "cell_type": "code",
   "execution_count": null,
   "id": "cf9dfab8",
   "metadata": {},
   "outputs": [],
   "source": [
    "print(classification_report(y_test, y_pred))"
   ]
  },
  {
   "cell_type": "code",
   "execution_count": null,
   "id": "d3b10ab8",
   "metadata": {},
   "outputs": [],
   "source": [
    "# Trying to scale the data to improve performance\n",
    "from sklearn.preprocessing import StandardScaler\n",
    "\n",
    "scaler = StandardScaler()\n",
    "X_train_res_scaled = scaler.fit_transform(X_train_res)\n",
    "X_test_scaled = scaler.transform(X_test)\n",
    "\n",
    "smote_model.fit(X_train_res_scaled, y_train_res, \n",
    "                epochs=20,\n",
    "                batch_size=32,\n",
    "                validation_split=0.2,\n",
    "                verbose=1)"
   ]
  },
  {
   "cell_type": "code",
   "execution_count": null,
   "id": "f1766156",
   "metadata": {},
   "outputs": [],
   "source": [
    "y_pred_prob_scaled = smote_model.predict(X_test_scaled, verbose=1)\n",
    "y_pred = (y_pred_prob_scaled > 0.5).astype(int)\n",
    "print(classification_report(y_test, y_pred))"
   ]
  },
  {
   "cell_type": "code",
   "execution_count": null,
   "id": "65c85879",
   "metadata": {},
   "outputs": [],
   "source": [
    "# Now try balancing the loss to penalize false negatives\n",
    "from sklearn.utils.class_weight import compute_class_weight\n",
    "\n",
    "class_weights = compute_class_weight('balanced', classes=np.unique(y_train_res), y=y_train_res)\n",
    "class_weights_dict = dict(enumerate(class_weights))\n",
    "smote_model.fit(X_train_res_scaled, y_train_res,\n",
    "                epochs=20,\n",
    "                batch_size=32,\n",
    "                validation_split=0.2,\n",
    "                class_weight=class_weights_dict,\n",
    "                callbacks=[tf.keras.callbacks.EarlyStopping(patience=5)],\n",
    "                verbose=1)"
   ]
  },
  {
   "cell_type": "code",
   "execution_count": null,
   "id": "5e21df74",
   "metadata": {},
   "outputs": [],
   "source": [
    "y_pred_prob = smote_model.predict(X_test_scaled, verbose=1)\n",
    "y_pred = (y_pred_prob > 0.6).astype(int)\n",
    "print(classification_report(y_test, y_pred))"
   ]
  },
  {
   "cell_type": "code",
   "execution_count": null,
   "id": "1fbe8c89",
   "metadata": {},
   "outputs": [],
   "source": [
    "import matplotlib.pyplot as plt\n",
    "from sklearn.metrics import confusion_matrix, ConfusionMatrixDisplay\n",
    "\n",
    "smote_matrix = confusion_matrix(y_test, y_pred, labels=[0, 1])\n",
    "\n",
    "disp = ConfusionMatrixDisplay(smote_matrix, display_labels=['No Fraud', 'Fraud'])\n",
    "disp.plot()\n",
    "plt.show()"
   ]
  }
 ],
 "metadata": {
  "kernelspec": {
   "display_name": ".venv",
   "language": "python",
   "name": "python3"
  },
  "language_info": {
   "codemirror_mode": {
    "name": "ipython",
    "version": 3
   },
   "file_extension": ".py",
   "mimetype": "text/x-python",
   "name": "python",
   "nbconvert_exporter": "python",
   "pygments_lexer": "ipython3",
   "version": "3.13.3"
  }
 },
 "nbformat": 4,
 "nbformat_minor": 5
}
